{
 "metadata": {
  "name": "",
  "signature": "sha256:ecfde678b8715a253762808c8db1b8ab3be105456ed9744b18439d5fa858e103"
 },
 "nbformat": 3,
 "nbformat_minor": 0,
 "worksheets": [
  {
   "cells": [
    {
     "cell_type": "code",
     "collapsed": false,
     "input": [
      "import numpy as np, quaternion"
     ],
     "language": "python",
     "metadata": {},
     "outputs": [],
     "prompt_number": 1
    },
    {
     "cell_type": "code",
     "collapsed": false,
     "input": [
      "q = np.quaternion(1.1,2.2,3.3,4.4)\n",
      "p = np.quaternion(4.1,3.2,2.3,.4)\n",
      "3.8*q*p**2.34"
     ],
     "language": "python",
     "metadata": {},
     "outputs": [
      {
       "metadata": {},
       "output_type": "pyout",
       "prompt_number": 2,
       "text": [
        "quaternion(-955.090684613051, -400.272047717251, 698.113944921735, -498.562231132732)"
       ]
      }
     ],
     "prompt_number": 2
    },
    {
     "cell_type": "code",
     "collapsed": false,
     "input": [
      "Qs = np.array([q,p,]*5)\n",
      "np.abs(Qs**2.0-np.array([q**2.0 for q in Qs]))"
     ],
     "language": "python",
     "metadata": {},
     "outputs": [
      {
       "metadata": {},
       "output_type": "pyout",
       "prompt_number": 3,
       "text": [
        "array([  1.81153564e-14,   1.06950844e-14,   1.81153564e-14,\n",
        "         1.06950844e-14,   1.81153564e-14,   1.06950844e-14,\n",
        "         1.81153564e-14,   1.06950844e-14,   1.81153564e-14,\n",
        "         1.06950844e-14])"
       ]
      }
     ],
     "prompt_number": 3
    },
    {
     "cell_type": "code",
     "collapsed": false,
     "input": [
      "Qs**2,[q**2 for q in Qs]"
     ],
     "language": "python",
     "metadata": {},
     "outputs": [
      {
       "metadata": {},
       "output_type": "pyout",
       "prompt_number": 4,
       "text": [
        "(array([quaternion(-33.88, 4.84, 7.26, 9.68),\n",
        "        quaternion(1.12, 26.24, 18.86, 3.28),\n",
        "        quaternion(-33.88, 4.84, 7.26, 9.68),\n",
        "        quaternion(1.12, 26.24, 18.86, 3.28),\n",
        "        quaternion(-33.88, 4.84, 7.26, 9.68),\n",
        "        quaternion(1.12, 26.24, 18.86, 3.28),\n",
        "        quaternion(-33.88, 4.84, 7.26, 9.68),\n",
        "        quaternion(1.12, 26.24, 18.86, 3.28),\n",
        "        quaternion(-33.88, 4.84, 7.26, 9.68),\n",
        "        quaternion(1.12, 26.24, 18.86, 3.28)], dtype=quaternion),\n",
        " [quaternion(-33.88, 4.84000000000001, 7.26000000000001, 9.68000000000001),\n",
        "  quaternion(1.12000000000001, 26.24, 18.86, 3.28),\n",
        "  quaternion(-33.88, 4.84000000000001, 7.26000000000001, 9.68000000000001),\n",
        "  quaternion(1.12000000000001, 26.24, 18.86, 3.28),\n",
        "  quaternion(-33.88, 4.84000000000001, 7.26000000000001, 9.68000000000001),\n",
        "  quaternion(1.12000000000001, 26.24, 18.86, 3.28),\n",
        "  quaternion(-33.88, 4.84000000000001, 7.26000000000001, 9.68000000000001),\n",
        "  quaternion(1.12000000000001, 26.24, 18.86, 3.28),\n",
        "  quaternion(-33.88, 4.84000000000001, 7.26000000000001, 9.68000000000001),\n",
        "  quaternion(1.12000000000001, 26.24, 18.86, 3.28)])"
       ]
      }
     ],
     "prompt_number": 4
    },
    {
     "cell_type": "code",
     "collapsed": false,
     "input": [
      "Qs**2.0-np.array([q**2.0 for q in Qs])"
     ],
     "language": "python",
     "metadata": {},
     "outputs": [
      {
       "metadata": {},
       "output_type": "pyout",
       "prompt_number": 5,
       "text": [
        "array([ quaternion(7.105427357601e-15, -7.105427357601e-15, -1.06581410364015e-14, -1.06581410364015e-14),\n",
        "       quaternion(-7.99360577730113e-15, -7.105427357601e-15, 0, 0),\n",
        "       quaternion(7.105427357601e-15, -7.105427357601e-15, -1.06581410364015e-14, -1.06581410364015e-14),\n",
        "       quaternion(-7.99360577730113e-15, -7.105427357601e-15, 0, 0),\n",
        "       quaternion(7.105427357601e-15, -7.105427357601e-15, -1.06581410364015e-14, -1.06581410364015e-14),\n",
        "       quaternion(-7.99360577730113e-15, -7.105427357601e-15, 0, 0),\n",
        "       quaternion(7.105427357601e-15, -7.105427357601e-15, -1.06581410364015e-14, -1.06581410364015e-14),\n",
        "       quaternion(-7.99360577730113e-15, -7.105427357601e-15, 0, 0),\n",
        "       quaternion(7.105427357601e-15, -7.105427357601e-15, -1.06581410364015e-14, -1.06581410364015e-14),\n",
        "       quaternion(-7.99360577730113e-15, -7.105427357601e-15, 0, 0)], dtype=quaternion)"
       ]
      }
     ],
     "prompt_number": 5
    },
    {
     "cell_type": "code",
     "collapsed": false,
     "input": [
      "q_nan1  = quaternion.quaternion(np.nan,0.,0.,0.)\n",
      "q_inf1  = quaternion.quaternion(np.inf,0.,0.,0.)\n",
      "q_minf1 = quaternion.quaternion(-np.inf,0.,0.,0.)\n",
      "q_0     = quaternion.quaternion(0.,0.,0.,0.)\n",
      "q_1     = quaternion.quaternion(1.,0.,0.,0.)\n",
      "x       = quaternion.quaternion(0.,1.,0.,0.)\n",
      "y       = quaternion.quaternion(0.,0.,1.,0.)\n",
      "z       = quaternion.quaternion(0.,0.,0.,1.)\n",
      "Q       = quaternion.quaternion(1.1,2.2,3.3,4.4)\n",
      "Qneg    = quaternion.quaternion(-1.1,-2.2,-3.3,-4.4)\n",
      "Qbar    = quaternion.quaternion(1.1,-2.2,-3.3,-4.4)\n",
      "Qlog    = quaternion.quaternion(1.7959088706354, 0.515190292664085,\n",
      "                                0.772785438996128, 1.03038058532817)\n",
      "Qexp    = quaternion.quaternion(2.81211398529184, -0.392521193481878,\n",
      "                                -0.588781790222817, -0.785042386963756)\n",
      "Qs = np.array([q_nan1, q_inf1, q_minf1, q_0, q_1, x, y, z, Q, Qneg, Qbar, Qlog, Qexp,])"
     ],
     "language": "python",
     "metadata": {},
     "outputs": [],
     "prompt_number": 6
    },
    {
     "cell_type": "code",
     "collapsed": false,
     "input": [
      "display(Qs[:-1].reshape(3,4))\n",
      "display(quaternion.as_float_array(Qs[:-1].reshape(3,4)))\n",
      "quaternion.as_quat_array(quaternion.as_float_array(Qs[:-1].reshape(3,4)))"
     ],
     "language": "python",
     "metadata": {},
     "outputs": [
      {
       "metadata": {},
       "output_type": "display_data",
       "text": [
        "array([[quaternion(nan, 0, 0, 0), quaternion(inf, 0, 0, 0),\n",
        "        quaternion(-inf, 0, 0, 0), quaternion(0, 0, 0, 0)],\n",
        "       [quaternion(1, 0, 0, 0), quaternion(0, 1, 0, 0),\n",
        "        quaternion(0, 0, 1, 0), quaternion(0, 0, 0, 1)],\n",
        "       [quaternion(1.1, 2.2, 3.3, 4.4), quaternion(-1.1, -2.2, -3.3, -4.4),\n",
        "        quaternion(1.1, -2.2, -3.3, -4.4),\n",
        "        quaternion(1.7959088706354, 0.515190292664085, 0.772785438996128, 1.03038058532817)]], dtype=quaternion)"
       ]
      },
      {
       "metadata": {},
       "output_type": "display_data",
       "text": [
        "array([[[        nan,  0.        ,  0.        ,  0.        ],\n",
        "        [        inf,  0.        ,  0.        ,  0.        ],\n",
        "        [       -inf,  0.        ,  0.        ,  0.        ],\n",
        "        [ 0.        ,  0.        ,  0.        ,  0.        ]],\n",
        "\n",
        "       [[ 1.        ,  0.        ,  0.        ,  0.        ],\n",
        "        [ 0.        ,  1.        ,  0.        ,  0.        ],\n",
        "        [ 0.        ,  0.        ,  1.        ,  0.        ],\n",
        "        [ 0.        ,  0.        ,  0.        ,  1.        ]],\n",
        "\n",
        "       [[ 1.1       ,  2.2       ,  3.3       ,  4.4       ],\n",
        "        [-1.1       , -2.2       , -3.3       , -4.4       ],\n",
        "        [ 1.1       , -2.2       , -3.3       , -4.4       ],\n",
        "        [ 1.79590887,  0.51519029,  0.77278544,  1.03038059]]])"
       ]
      },
      {
       "metadata": {},
       "output_type": "pyout",
       "prompt_number": 7,
       "text": [
        "array([[quaternion(nan, 0, 0, 0), quaternion(inf, 0, 0, 0),\n",
        "        quaternion(-inf, 0, 0, 0), quaternion(0, 0, 0, 0)],\n",
        "       [quaternion(1, 0, 0, 0), quaternion(0, 1, 0, 0),\n",
        "        quaternion(0, 0, 1, 0), quaternion(0, 0, 0, 1)],\n",
        "       [quaternion(1.1, 2.2, 3.3, 4.4), quaternion(-1.1, -2.2, -3.3, -4.4),\n",
        "        quaternion(1.1, -2.2, -3.3, -4.4),\n",
        "        quaternion(1.7959088706354, 0.515190292664085, 0.772785438996128, 1.03038058532817)]], dtype=quaternion)"
       ]
      }
     ],
     "prompt_number": 7
    },
    {
     "cell_type": "code",
     "collapsed": false,
     "input": [
      "Qs[:-1].reshape(3,4)-quaternion.as_quat_array(quaternion.as_float_array(Qs[:-1].reshape(3,4)))"
     ],
     "language": "python",
     "metadata": {},
     "outputs": [
      {
       "output_type": "stream",
       "stream": "stderr",
       "text": [
        "-c:1: RuntimeWarning: invalid value encountered in subtract\n"
       ]
      },
      {
       "metadata": {},
       "output_type": "pyout",
       "prompt_number": 8,
       "text": [
        "array([[quaternion(nan, 0, 0, 0), quaternion(nan, 0, 0, 0),\n",
        "        quaternion(nan, 0, 0, 0), quaternion(0, 0, 0, 0)],\n",
        "       [quaternion(0, 0, 0, 0), quaternion(0, 0, 0, 0),\n",
        "        quaternion(0, 0, 0, 0), quaternion(0, 0, 0, 0)],\n",
        "       [quaternion(0, 0, 0, 0), quaternion(0, 0, 0, 0),\n",
        "        quaternion(0, 0, 0, 0), quaternion(0, 0, 0, 0)]], dtype=quaternion)"
       ]
      }
     ],
     "prompt_number": 8
    },
    {
     "cell_type": "code",
     "collapsed": false,
     "input": [
      "q = quaternion.as_float_array(Qs)\n",
      "q.dtype == np.dtype(np.float)"
     ],
     "language": "python",
     "metadata": {},
     "outputs": [
      {
       "metadata": {},
       "output_type": "pyout",
       "prompt_number": 9,
       "text": [
        "True"
       ]
      }
     ],
     "prompt_number": 9
    },
    {
     "cell_type": "code",
     "collapsed": false,
     "input": [
      "def as_spinor_array(a):\n",
      "    \"\"\"View a quaternion array as spinors in two-complex representation\n",
      "\n",
      "    \"\"\"\n",
      "    assert a.dtype == np.dtype(np.quaternion)\n",
      "    return a.view(np.float).reshape(a.shape+(4,))[...,[0,3,2,1]].ravel().view(np.complex).reshape(a.shape+(2,))\n"
     ],
     "language": "python",
     "metadata": {},
     "outputs": [],
     "prompt_number": 10
    },
    {
     "cell_type": "code",
     "collapsed": false,
     "input": [
      "as_spinor_array(Qs)"
     ],
     "language": "python",
     "metadata": {},
     "outputs": [
      {
       "metadata": {},
       "output_type": "pyout",
       "prompt_number": 11,
       "text": [
        "array([[        nan+0.j        ,  0.00000000+0.j        ],\n",
        "       [        inf+0.j        ,  0.00000000+0.j        ],\n",
        "       [       -inf+0.j        ,  0.00000000+0.j        ],\n",
        "       [ 0.00000000+0.j        ,  0.00000000+0.j        ],\n",
        "       [ 1.00000000+0.j        ,  0.00000000+0.j        ],\n",
        "       [ 0.00000000+0.j        ,  0.00000000+1.j        ],\n",
        "       [ 0.00000000+0.j        ,  1.00000000+0.j        ],\n",
        "       [ 0.00000000+1.j        ,  0.00000000+0.j        ],\n",
        "       [ 1.10000000+4.4j       ,  3.30000000+2.2j       ],\n",
        "       [-1.10000000-4.4j       , -3.30000000-2.2j       ],\n",
        "       [ 1.10000000-4.4j       , -3.30000000-2.2j       ],\n",
        "       [ 1.79590887+1.03038059j,  0.77278544+0.51519029j],\n",
        "       [ 2.81211399-0.78504239j, -0.58878179-0.39252119j]])"
       ]
      }
     ],
     "prompt_number": 11
    },
    {
     "cell_type": "code",
     "collapsed": false,
     "input": [],
     "language": "python",
     "metadata": {},
     "outputs": []
    },
    {
     "cell_type": "heading",
     "level": 1,
     "metadata": {},
     "source": [
      "Spherical functions"
     ]
    },
    {
     "cell_type": "code",
     "collapsed": false,
     "input": [
      "import spherical_functions as sp"
     ],
     "language": "python",
     "metadata": {},
     "outputs": [],
     "prompt_number": 21
    },
    {
     "cell_type": "code",
     "collapsed": false,
     "input": [
      "sp.wigner3j(3,2,1,1,-1,0)"
     ],
     "language": "python",
     "metadata": {},
     "outputs": [
      {
       "metadata": {},
       "output_type": "pyout",
       "prompt_number": 23,
       "text": [
        "0.27602622373694163"
       ]
      }
     ],
     "prompt_number": 23
    },
    {
     "cell_type": "code",
     "collapsed": false,
     "input": [],
     "language": "python",
     "metadata": {},
     "outputs": []
    },
    {
     "cell_type": "code",
     "collapsed": false,
     "input": [],
     "language": "python",
     "metadata": {},
     "outputs": []
    },
    {
     "cell_type": "code",
     "collapsed": false,
     "input": [
      "%timeit Wigner3j(3,2,3,1,-1,0)"
     ],
     "language": "python",
     "metadata": {},
     "outputs": [
      {
       "output_type": "stream",
       "stream": "stdout",
       "text": [
        "1000000 loops, best of 3: 540 ns per loop\n"
       ]
      }
     ],
     "prompt_number": 12
    },
    {
     "cell_type": "code",
     "collapsed": false,
     "input": [
      "%%timeit\n",
      "for j1 in range(1,8):\n",
      "    for j2 in range(1,8):\n",
      "        for j3 in range(1,2):\n",
      "            for m1 in range(-j1,j1+1):\n",
      "                for m2 in range(-j2,j2+1):\n",
      "                    Wigner3j(j1,j2,j3,m1,m2,-m1-m2)"
     ],
     "language": "python",
     "metadata": {},
     "outputs": [
      {
       "output_type": "stream",
       "stream": "stdout",
       "text": [
        "100 loops, best of 3: 2.53 ms per loop\n"
       ]
      }
     ],
     "prompt_number": 17
    },
    {
     "cell_type": "code",
     "collapsed": false,
     "input": [
      "i=0\n",
      "for j1 in range(1,8):\n",
      "    for j2 in range(1,8):\n",
      "        for j3 in range(1,2):\n",
      "            for m1 in range(-j1,j1+1):\n",
      "                for m2 in range(-j2,j2+1):\n",
      "                    i+=1\n",
      "print(i)"
     ],
     "language": "python",
     "metadata": {},
     "outputs": [
      {
       "output_type": "stream",
       "stream": "stdout",
       "text": [
        "3969\n"
       ]
      }
     ],
     "prompt_number": 18
    },
    {
     "cell_type": "code",
     "collapsed": false,
     "input": [
      "2.53/3969."
     ],
     "language": "python",
     "metadata": {},
     "outputs": [
      {
       "metadata": {},
       "output_type": "pyout",
       "prompt_number": 19,
       "text": [
        "0.000637440161249685"
       ]
      }
     ],
     "prompt_number": 19
    },
    {
     "cell_type": "code",
     "collapsed": false,
     "input": [],
     "language": "python",
     "metadata": {},
     "outputs": []
    },
    {
     "cell_type": "heading",
     "level": 1,
     "metadata": {},
     "source": [
      "Factorial experiments"
     ]
    },
    {
     "cell_type": "code",
     "collapsed": false,
     "input": [
      "class Factorial(object):\n",
      "    from numpy import array\n",
      "    _factorial = array(())\n",
      "\n",
      "    def __new__(cls):\n",
      "        if not Factorial._factorial.size:\n",
      "            print \"Starting a new one...\"\n",
      "            from math import factorial\n",
      "            Factorial._factorial = array([float(factorial(i)) for i in range(171)])\n",
      "        return super(Factorial, cls).__new__(cls)\n",
      "\n",
      "\n",
      "a1 = Factorial()\n",
      "a2 = Factorial()\n",
      "a3 = Factorial()"
     ],
     "language": "python",
     "metadata": {},
     "outputs": [
      {
       "output_type": "stream",
       "stream": "stdout",
       "text": [
        "Starting a new one...\n"
       ]
      }
     ],
     "prompt_number": 28
    },
    {
     "cell_type": "code",
     "collapsed": false,
     "input": [
      "a1._factorial"
     ],
     "language": "python",
     "metadata": {},
     "outputs": [
      {
       "metadata": {},
       "output_type": "pyout",
       "prompt_number": 29,
       "text": [
        "array([  1.00000000e+000,   1.00000000e+000,   2.00000000e+000,\n",
        "         6.00000000e+000,   2.40000000e+001,   1.20000000e+002,\n",
        "         7.20000000e+002,   5.04000000e+003,   4.03200000e+004,\n",
        "         3.62880000e+005,   3.62880000e+006,   3.99168000e+007,\n",
        "         4.79001600e+008,   6.22702080e+009,   8.71782912e+010,\n",
        "         1.30767437e+012,   2.09227899e+013,   3.55687428e+014,\n",
        "         6.40237371e+015,   1.21645100e+017,   2.43290201e+018,\n",
        "         5.10909422e+019,   1.12400073e+021,   2.58520167e+022,\n",
        "         6.20448402e+023,   1.55112100e+025,   4.03291461e+026,\n",
        "         1.08888695e+028,   3.04888345e+029,   8.84176199e+030,\n",
        "         2.65252860e+032,   8.22283865e+033,   2.63130837e+035,\n",
        "         8.68331762e+036,   2.95232799e+038,   1.03331480e+040,\n",
        "         3.71993327e+041,   1.37637531e+043,   5.23022617e+044,\n",
        "         2.03978821e+046,   8.15915283e+047,   3.34525266e+049,\n",
        "         1.40500612e+051,   6.04152631e+052,   2.65827157e+054,\n",
        "         1.19622221e+056,   5.50262216e+057,   2.58623242e+059,\n",
        "         1.24139156e+061,   6.08281864e+062,   3.04140932e+064,\n",
        "         1.55111875e+066,   8.06581752e+067,   4.27488328e+069,\n",
        "         2.30843697e+071,   1.26964034e+073,   7.10998588e+074,\n",
        "         4.05269195e+076,   2.35056133e+078,   1.38683119e+080,\n",
        "         8.32098711e+081,   5.07580214e+083,   3.14699733e+085,\n",
        "         1.98260832e+087,   1.26886932e+089,   8.24765059e+090,\n",
        "         5.44344939e+092,   3.64711109e+094,   2.48003554e+096,\n",
        "         1.71122452e+098,   1.19785717e+100,   8.50478589e+101,\n",
        "         6.12344584e+103,   4.47011546e+105,   3.30788544e+107,\n",
        "         2.48091408e+109,   1.88549470e+111,   1.45183092e+113,\n",
        "         1.13242812e+115,   8.94618213e+116,   7.15694570e+118,\n",
        "         5.79712602e+120,   4.75364334e+122,   3.94552397e+124,\n",
        "         3.31424013e+126,   2.81710411e+128,   2.42270954e+130,\n",
        "         2.10775730e+132,   1.85482642e+134,   1.65079552e+136,\n",
        "         1.48571596e+138,   1.35200153e+140,   1.24384141e+142,\n",
        "         1.15677251e+144,   1.08736616e+146,   1.03299785e+148,\n",
        "         9.91677935e+149,   9.61927597e+151,   9.42689045e+153,\n",
        "         9.33262154e+155,   9.33262154e+157,   9.42594776e+159,\n",
        "         9.61446672e+161,   9.90290072e+163,   1.02990167e+166,\n",
        "         1.08139676e+168,   1.14628056e+170,   1.22652020e+172,\n",
        "         1.32464182e+174,   1.44385958e+176,   1.58824554e+178,\n",
        "         1.76295255e+180,   1.97450686e+182,   2.23119275e+184,\n",
        "         2.54355973e+186,   2.92509369e+188,   3.39310868e+190,\n",
        "         3.96993716e+192,   4.68452585e+194,   5.57458576e+196,\n",
        "         6.68950291e+198,   8.09429853e+200,   9.87504420e+202,\n",
        "         1.21463044e+205,   1.50614174e+207,   1.88267718e+209,\n",
        "         2.37217324e+211,   3.01266002e+213,   3.85620482e+215,\n",
        "         4.97450422e+217,   6.46685549e+219,   8.47158069e+221,\n",
        "         1.11824865e+224,   1.48727071e+226,   1.99294275e+228,\n",
        "         2.69047271e+230,   3.65904288e+232,   5.01288875e+234,\n",
        "         6.91778647e+236,   9.61572320e+238,   1.34620125e+241,\n",
        "         1.89814376e+243,   2.69536414e+245,   3.85437072e+247,\n",
        "         5.55029383e+249,   8.04792606e+251,   1.17499720e+254,\n",
        "         1.72724589e+256,   2.55632392e+258,   3.80892264e+260,\n",
        "         5.71338396e+262,   8.62720977e+264,   1.31133589e+267,\n",
        "         2.00634391e+269,   3.08976961e+271,   4.78914290e+273,\n",
        "         7.47106293e+275,   1.17295688e+278,   1.85327187e+280,\n",
        "         2.94670227e+282,   4.71472364e+284,   7.59070505e+286,\n",
        "         1.22969422e+289,   2.00440158e+291,   3.28721859e+293,\n",
        "         5.42391067e+295,   9.00369171e+297,   1.50361651e+300,\n",
        "         2.52607574e+302,   4.26906801e+304,   7.25741562e+306])"
       ]
      }
     ],
     "prompt_number": 29
    },
    {
     "cell_type": "code",
     "collapsed": false,
     "input": [],
     "language": "python",
     "metadata": {},
     "outputs": []
    },
    {
     "cell_type": "code",
     "collapsed": false,
     "input": [],
     "language": "python",
     "metadata": {},
     "outputs": []
    },
    {
     "cell_type": "code",
     "collapsed": false,
     "input": [],
     "language": "python",
     "metadata": {},
     "outputs": []
    },
    {
     "cell_type": "code",
     "collapsed": false,
     "input": [],
     "language": "python",
     "metadata": {},
     "outputs": []
    },
    {
     "cell_type": "code",
     "collapsed": false,
     "input": [],
     "language": "python",
     "metadata": {},
     "outputs": []
    }
   ],
   "metadata": {}
  }
 ]
}